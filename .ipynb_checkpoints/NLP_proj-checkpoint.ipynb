{
 "cells": [
  {
   "cell_type": "code",
   "execution_count": null,
   "id": "39795955",
   "metadata": {},
   "outputs": [],
   "source": [
    "#!pip install tiktoken"
   ]
  },
  {
   "cell_type": "code",
   "execution_count": 1,
   "id": "9ee9d178",
   "metadata": {},
   "outputs": [],
   "source": [
    "import pandas as pd\n",
    "import numpy as np\n",
    "# import api"
   ]
  },
  {
   "cell_type": "code",
   "execution_count": null,
   "id": "31d52e7c",
   "metadata": {},
   "outputs": [],
   "source": [
    "# openai.api_key = api.API_KEY\n",
    "# api_key = api.API_KEY"
   ]
  },
  {
   "cell_type": "code",
   "execution_count": null,
   "id": "0a480151",
   "metadata": {},
   "outputs": [],
   "source": [
    "fh = open(\"C:\\\\complaints\\\\new\\\\filtered_``new_issues_80_per_issue.csv\")\n",
    "for count, line in enumerate(fh):\n",
    "    pass\n",
    "py_number_of_rows = count"
   ]
  },
  {
   "cell_type": "code",
   "execution_count": null,
   "id": "e8203ecd",
   "metadata": {},
   "outputs": [],
   "source": [
    "## Incase of equal split, provide the same number for min and max\n",
    "min_rows = int(input(**\"Minimum Number of rows per file? : \" **))\n",
    "max_rows = int(input(**\"Maximum Number of rows per file? : \" **))\n",
    "\n",
    "## This value changes per file\n",
    "number_of_rows_perfile = random.randint(min_rows, max_rows)"
   ]
  },
  {
   "cell_type": "code",
   "execution_count": null,
   "id": "3a1b8b84",
   "metadata": {},
   "outputs": [],
   "source": [
    "df = pd.read_csv(r\"C:\\\\complaints\\\\new\\\\filtered_new_issues_80_per_issue.csv\")\n"
   ]
  },
  {
   "cell_type": "code",
   "execution_count": null,
   "id": "77e27cd3",
   "metadata": {},
   "outputs": [],
   "source": [
    "df.columns"
   ]
  },
  {
   "cell_type": "code",
   "execution_count": null,
   "id": "a58581f8",
   "metadata": {},
   "outputs": [],
   "source": [
    "new_df = df[[\"Issue\",\"Consumer complaint narrative\",\"Company public response\",\"Complaint ID\"]]"
   ]
  },
  {
   "cell_type": "code",
   "execution_count": null,
   "id": "f9b13151",
   "metadata": {},
   "outputs": [],
   "source": [
    "import numpy as np\n",
    "from sklearn.model_selection import train_test_split"
   ]
  },
  {
   "cell_type": "code",
   "execution_count": null,
   "id": "e9c4603d",
   "metadata": {},
   "outputs": [],
   "source": [
    "df_train, df_test = train_test_split(new_df, test_size=0.2, random_state=100)"
   ]
  },
  {
   "cell_type": "code",
   "execution_count": null,
   "id": "06e39597",
   "metadata": {},
   "outputs": [],
   "source": [
    "df_train.to_csv(r'C:\\complaints\\new\\train.csv',index = False)"
   ]
  },
  {
   "cell_type": "code",
   "execution_count": null,
   "id": "49acdcdd",
   "metadata": {},
   "outputs": [],
   "source": [
    "df_test.to_csv(r'C:\\complaints\\new\\test.csv',index = False)"
   ]
  },
  {
   "cell_type": "code",
   "execution_count": null,
   "id": "2a5f27d6",
   "metadata": {},
   "outputs": [],
   "source": []
  },
  {
   "cell_type": "code",
   "execution_count": null,
   "id": "ed454a02",
   "metadata": {},
   "outputs": [],
   "source": [
    "!pip install --upgrade openai"
   ]
  },
  {
   "cell_type": "code",
   "execution_count": null,
   "id": "47ed6c15",
   "metadata": {},
   "outputs": [],
   "source": [
    "!openai --ver\n"
   ]
  },
  {
   "cell_type": "code",
   "execution_count": 2,
   "id": "b57d40ec",
   "metadata": {},
   "outputs": [],
   "source": [
    "from openai import OpenAI\n",
    "\n",
    "client = OpenAI(api_key=\"api-key\")"
   ]
  },
  {
   "cell_type": "code",
   "execution_count": 3,
   "id": "e94cf2d4",
   "metadata": {},
   "outputs": [],
   "source": [
    "emb = client.embeddings.create(\n",
    "  model=\"text-embedding-ada-002\",\n",
    "  input=\"The food was delicious and the waiter.\",\n",
    "  encoding_format=\"float\"\n",
    ")      "
   ]
  },
  {
   "cell_type": "code",
   "execution_count": 4,
   "id": "4cd6ef60",
   "metadata": {},
   "outputs": [
    {
     "data": {
      "text/plain": [
       "1536"
      ]
     },
     "execution_count": 4,
     "metadata": {},
     "output_type": "execute_result"
    }
   ],
   "source": [
    "len(emb.data[0].embedding)"
   ]
  },
  {
   "cell_type": "code",
   "execution_count": 5,
   "id": "ee0c40ab",
   "metadata": {},
   "outputs": [],
   "source": [
    "input_datapath = r\"D:\\Sem 2 Subject Files\\Adv. NLP\\NLP_proj\\Embedding_\\dataset\\train.csv\"  # to save space, we provide a pre-filtered dataset\n",
    "train_df = pd.read_csv(input_datapath)\n",
    "# train_df = train_df[[\"CallReference\",\"Problem_Summary\"]]\n",
    "train_df = train_df.dropna()\n",
    "train_df[\"combined\"] = (\n",
    "    \"Consumer complaint: \" + train_df[\"Consumer complaint narrative\"].str.strip() \n",
    ")\n",
    "test_10 = train_df.head(10)"
   ]
  },
  {
   "cell_type": "code",
   "execution_count": 7,
   "id": "2a576b3a",
   "metadata": {},
   "outputs": [
    {
     "data": {
      "text/plain": [
       "10"
      ]
     },
     "execution_count": 7,
     "metadata": {},
     "output_type": "execute_result"
    }
   ],
   "source": [
    "len(test_10)"
   ]
  },
  {
   "cell_type": "code",
   "execution_count": null,
   "id": "ed85565a",
   "metadata": {},
   "outputs": [],
   "source": []
  },
  {
   "cell_type": "code",
   "execution_count": 8,
   "id": "5a18f15f",
   "metadata": {},
   "outputs": [],
   "source": [
    "bf=test_10.drop(['Issue','Consumer complaint narrative','Company public response'], axis=1)"
   ]
  },
  {
   "cell_type": "code",
   "execution_count": 9,
   "id": "d1b74d15",
   "metadata": {},
   "outputs": [
    {
     "data": {
      "text/html": [
       "<div>\n",
       "<style scoped>\n",
       "    .dataframe tbody tr th:only-of-type {\n",
       "        vertical-align: middle;\n",
       "    }\n",
       "\n",
       "    .dataframe tbody tr th {\n",
       "        vertical-align: top;\n",
       "    }\n",
       "\n",
       "    .dataframe thead th {\n",
       "        text-align: right;\n",
       "    }\n",
       "</style>\n",
       "<table border=\"1\" class=\"dataframe\">\n",
       "  <thead>\n",
       "    <tr style=\"text-align: right;\">\n",
       "      <th></th>\n",
       "      <th>Complaint ID</th>\n",
       "      <th>combined</th>\n",
       "    </tr>\n",
       "  </thead>\n",
       "  <tbody>\n",
       "    <tr>\n",
       "      <th>0</th>\n",
       "      <td>5162002</td>\n",
       "      <td>Consumer complaint: I'm filing this complaint ...</td>\n",
       "    </tr>\n",
       "    <tr>\n",
       "      <th>2</th>\n",
       "      <td>1502891</td>\n",
       "      <td>Consumer complaint: The XXXX XXXX account bein...</td>\n",
       "    </tr>\n",
       "    <tr>\n",
       "      <th>4</th>\n",
       "      <td>6382987</td>\n",
       "      <td>Consumer complaint: For starters American Cred...</td>\n",
       "    </tr>\n",
       "    <tr>\n",
       "      <th>7</th>\n",
       "      <td>1894570</td>\n",
       "      <td>Consumer complaint: Synchrony Bank did NOT ade...</td>\n",
       "    </tr>\n",
       "    <tr>\n",
       "      <th>11</th>\n",
       "      <td>6684260</td>\n",
       "      <td>Consumer complaint: 15 USC 1601 I am writing t...</td>\n",
       "    </tr>\n",
       "  </tbody>\n",
       "</table>\n",
       "</div>"
      ],
      "text/plain": [
       "    Complaint ID                                           combined\n",
       "0        5162002  Consumer complaint: I'm filing this complaint ...\n",
       "2        1502891  Consumer complaint: The XXXX XXXX account bein...\n",
       "4        6382987  Consumer complaint: For starters American Cred...\n",
       "7        1894570  Consumer complaint: Synchrony Bank did NOT ade...\n",
       "11       6684260  Consumer complaint: 15 USC 1601 I am writing t..."
      ]
     },
     "execution_count": 9,
     "metadata": {},
     "output_type": "execute_result"
    }
   ],
   "source": [
    "bf.head()"
   ]
  },
  {
   "cell_type": "code",
   "execution_count": 10,
   "id": "dd37b486",
   "metadata": {},
   "outputs": [],
   "source": [
    "max_tokens = 8000  # the maximum for text-embedding-ada-002 is 8191"
   ]
  },
  {
   "cell_type": "code",
   "execution_count": null,
   "id": "e0c36a64",
   "metadata": {},
   "outputs": [],
   "source": [
    "# # encoding = tiktoken.get_encoding(encoding_name)\n",
    "\n",
    "# # omit reviews that are too long to embed\n",
    "# bf[\"embedding\"] = bf.combined.apply(lambda x: len(client.embeddings.create(\n",
    "#   model=\"text-embedding-ada-002\",\n",
    "#   input=x,\n",
    "#   encoding_format=\"float\"\n",
    "# ).data[0].embedding))\n",
    "# bf = bf[bf.n_tokens <= max_tokens]\n",
    "# len(bf)"
   ]
  },
  {
   "cell_type": "code",
   "execution_count": 11,
   "id": "b0d2eacb",
   "metadata": {},
   "outputs": [],
   "source": [
    "# Ensure you have your API key set in your environment per the README: https://github.com/openai/openai-python#usage\n",
    "\n",
    "# This may take a few minutes\n",
    "bf[\"embedding\"] = bf.combined.apply(lambda x: client.embeddings.create(\n",
    "  model=\"text-embedding-ada-002\",\n",
    "  input=x,\n",
    "  encoding_format=\"float\"\n",
    ").data[0].embedding)"
   ]
  },
  {
   "cell_type": "code",
   "execution_count": 12,
   "id": "e06cef3f",
   "metadata": {},
   "outputs": [
    {
     "data": {
      "text/html": [
       "<div>\n",
       "<style scoped>\n",
       "    .dataframe tbody tr th:only-of-type {\n",
       "        vertical-align: middle;\n",
       "    }\n",
       "\n",
       "    .dataframe tbody tr th {\n",
       "        vertical-align: top;\n",
       "    }\n",
       "\n",
       "    .dataframe thead th {\n",
       "        text-align: right;\n",
       "    }\n",
       "</style>\n",
       "<table border=\"1\" class=\"dataframe\">\n",
       "  <thead>\n",
       "    <tr style=\"text-align: right;\">\n",
       "      <th></th>\n",
       "      <th>Complaint ID</th>\n",
       "      <th>combined</th>\n",
       "      <th>embedding</th>\n",
       "    </tr>\n",
       "  </thead>\n",
       "  <tbody>\n",
       "    <tr>\n",
       "      <th>0</th>\n",
       "      <td>5162002</td>\n",
       "      <td>Consumer complaint: I'm filing this complaint ...</td>\n",
       "      <td>[-0.015819596, -0.020434804, -0.013873425, -0....</td>\n",
       "    </tr>\n",
       "    <tr>\n",
       "      <th>2</th>\n",
       "      <td>1502891</td>\n",
       "      <td>Consumer complaint: The XXXX XXXX account bein...</td>\n",
       "      <td>[-0.02352696, 0.004969971, 0.007784851, -0.026...</td>\n",
       "    </tr>\n",
       "    <tr>\n",
       "      <th>4</th>\n",
       "      <td>6382987</td>\n",
       "      <td>Consumer complaint: For starters American Cred...</td>\n",
       "      <td>[-0.01763299, 0.00213093, 0.023395317, -0.0245...</td>\n",
       "    </tr>\n",
       "    <tr>\n",
       "      <th>7</th>\n",
       "      <td>1894570</td>\n",
       "      <td>Consumer complaint: Synchrony Bank did NOT ade...</td>\n",
       "      <td>[-0.043760862, -0.025978714, 0.013305668, -0.0...</td>\n",
       "    </tr>\n",
       "    <tr>\n",
       "      <th>11</th>\n",
       "      <td>6684260</td>\n",
       "      <td>Consumer complaint: 15 USC 1601 I am writing t...</td>\n",
       "      <td>[-0.02286931, 0.0027864347, -0.0069147237, -0....</td>\n",
       "    </tr>\n",
       "    <tr>\n",
       "      <th>12</th>\n",
       "      <td>4229446</td>\n",
       "      <td>Consumer complaint: on XX/XX/21, I opened both...</td>\n",
       "      <td>[-0.03542214, -0.009444057, 0.013896057, -0.02...</td>\n",
       "    </tr>\n",
       "    <tr>\n",
       "      <th>15</th>\n",
       "      <td>2967078</td>\n",
       "      <td>Consumer complaint: I was mislead by PayPal Cr...</td>\n",
       "      <td>[-0.027459197, -0.014974133, 0.010512345, -0.0...</td>\n",
       "    </tr>\n",
       "    <tr>\n",
       "      <th>18</th>\n",
       "      <td>7279505</td>\n",
       "      <td>Consumer complaint: XXXX XXXX XXXX XXXX XXXX a...</td>\n",
       "      <td>[-0.02030381, -0.008020203, -0.00077923934, -0...</td>\n",
       "    </tr>\n",
       "    <tr>\n",
       "      <th>21</th>\n",
       "      <td>2499667</td>\n",
       "      <td>Consumer complaint: Made a payment to UAC on m...</td>\n",
       "      <td>[-0.0066170604, -0.01876718, 0.022305146, -0.0...</td>\n",
       "    </tr>\n",
       "    <tr>\n",
       "      <th>26</th>\n",
       "      <td>2661717</td>\n",
       "      <td>Consumer complaint: Mailed {$50.00} check paym...</td>\n",
       "      <td>[-0.03271298, -0.022250233, -0.0047481135, -0....</td>\n",
       "    </tr>\n",
       "  </tbody>\n",
       "</table>\n",
       "</div>"
      ],
      "text/plain": [
       "    Complaint ID                                           combined  \\\n",
       "0        5162002  Consumer complaint: I'm filing this complaint ...   \n",
       "2        1502891  Consumer complaint: The XXXX XXXX account bein...   \n",
       "4        6382987  Consumer complaint: For starters American Cred...   \n",
       "7        1894570  Consumer complaint: Synchrony Bank did NOT ade...   \n",
       "11       6684260  Consumer complaint: 15 USC 1601 I am writing t...   \n",
       "12       4229446  Consumer complaint: on XX/XX/21, I opened both...   \n",
       "15       2967078  Consumer complaint: I was mislead by PayPal Cr...   \n",
       "18       7279505  Consumer complaint: XXXX XXXX XXXX XXXX XXXX a...   \n",
       "21       2499667  Consumer complaint: Made a payment to UAC on m...   \n",
       "26       2661717  Consumer complaint: Mailed {$50.00} check paym...   \n",
       "\n",
       "                                            embedding  \n",
       "0   [-0.015819596, -0.020434804, -0.013873425, -0....  \n",
       "2   [-0.02352696, 0.004969971, 0.007784851, -0.026...  \n",
       "4   [-0.01763299, 0.00213093, 0.023395317, -0.0245...  \n",
       "7   [-0.043760862, -0.025978714, 0.013305668, -0.0...  \n",
       "11  [-0.02286931, 0.0027864347, -0.0069147237, -0....  \n",
       "12  [-0.03542214, -0.009444057, 0.013896057, -0.02...  \n",
       "15  [-0.027459197, -0.014974133, 0.010512345, -0.0...  \n",
       "18  [-0.02030381, -0.008020203, -0.00077923934, -0...  \n",
       "21  [-0.0066170604, -0.01876718, 0.022305146, -0.0...  \n",
       "26  [-0.03271298, -0.022250233, -0.0047481135, -0....  "
      ]
     },
     "execution_count": 12,
     "metadata": {},
     "output_type": "execute_result"
    }
   ],
   "source": [
    "bf.head(10)"
   ]
  },
  {
   "cell_type": "code",
   "execution_count": 13,
   "id": "1c73d529",
   "metadata": {},
   "outputs": [],
   "source": [
    "bf.to_csv(r\"D:\\Sem 2 Subject Files\\Adv. NLP\\NLP_proj\\Embedding_\\dataset\\Embeddings.csv\")"
   ]
  },
  {
   "cell_type": "code",
   "execution_count": null,
   "id": "aaee8cc9",
   "metadata": {},
   "outputs": [],
   "source": []
  },
  {
   "cell_type": "code",
   "execution_count": null,
   "id": "061d2789",
   "metadata": {},
   "outputs": [],
   "source": []
  },
  {
   "cell_type": "code",
   "execution_count": null,
   "id": "30b7d28f",
   "metadata": {},
   "outputs": [],
   "source": []
  }
 ],
 "metadata": {
  "kernelspec": {
   "display_name": "Python 3 (ipykernel)",
   "language": "python",
   "name": "python3"
  },
  "language_info": {
   "codemirror_mode": {
    "name": "ipython",
    "version": 3
   },
   "file_extension": ".py",
   "mimetype": "text/x-python",
   "name": "python",
   "nbconvert_exporter": "python",
   "pygments_lexer": "ipython3",
   "version": "3.11.4"
  }
 },
 "nbformat": 4,
 "nbformat_minor": 5
}
